{
  "nbformat": 4,
  "nbformat_minor": 0,
  "metadata": {
    "colab": {
      "provenance": [],
      "include_colab_link": true
    },
    "kernelspec": {
      "name": "python3",
      "display_name": "Python 3"
    },
    "language_info": {
      "name": "python"
    }
  },
  "cells": [
    {
      "cell_type": "markdown",
      "metadata": {
        "id": "view-in-github",
        "colab_type": "text"
      },
      "source": [
        "<a href=\"https://colab.research.google.com/github/Yuzu09/Programaci-n-4./blob/main/Sistema_de_Facturaci%C3%B3n_POO.ipynb\" target=\"_parent\"><img src=\"https://colab.research.google.com/assets/colab-badge.svg\" alt=\"Open In Colab\"/></a>"
      ]
    },
    {
      "cell_type": "code",
      "execution_count": null,
      "metadata": {
        "id": "0WmvWaWCPTDq"
      },
      "outputs": [],
      "source": [
        "# Clase Base Producto\n",
        "class Producto:\n",
        "    def __init__(self, nombre, precio):\n",
        "        self.nombre = nombre\n",
        "        self.precio = precio\n",
        "\n",
        "    def __str__(self):\n",
        "        return f\"{self.nombre} - ${self.precio}\"\n",
        "\n",
        "# Producto de Control (Hereda de Producto)\n",
        "class ProductoDeControl(Producto):\n",
        "    def __init__(self, nombre, precio, registro_ica, frecuencia_aplicacion):\n",
        "        super().__init__(nombre, precio)\n",
        "        self.registro_ica = registro_ica\n",
        "        self.frecuencia_aplicacion = frecuencia_aplicacion\n",
        "\n",
        "# Control de Plagas (Hereda de ProductoDeControl)\n",
        "class ControlDePlagas(ProductoDeControl):\n",
        "    def __init__(self, nombre, precio, registro_ica, frecuencia_aplicacion, periodo_carencia):\n",
        "        super().__init__(nombre, precio, registro_ica, frecuencia_aplicacion)\n",
        "        self.periodo_carencia = periodo_carencia\n",
        "\n",
        "# Control de Fertilizantes (Hereda de ProductoDeControl)\n",
        "class ControlDeFertilizantes(ProductoDeControl):\n",
        "    def __init__(self, nombre, precio, registro_ica, frecuencia_aplicacion, fecha_ultima_aplicacion):\n",
        "        super().__init__(nombre, precio, registro_ica, frecuencia_aplicacion)\n",
        "        self.fecha_ultima_aplicacion = fecha_ultima_aplicacion\n",
        "\n",
        "# Medicamento (Hereda de Producto)\n",
        "class Medicamento(Producto):\n",
        "    def __init__(self, nombre, precio, dosis, tipo_animal):\n",
        "        super().__init__(nombre, precio)\n",
        "        self.dosis = dosis\n",
        "        self.tipo_animal = tipo_animal\n"
      ]
    },
    {
      "cell_type": "code",
      "source": [
        "# Clase Cliente\n",
        "class Cliente:\n",
        "    def __init__(self, nombre, cedula):\n",
        "        self.nombre = nombre\n",
        "        self.cedula = int(cedula)\n",
        "        self.facturas = []\n",
        "\n",
        "    def agregar_factura(self, factura):\n",
        "        self.facturas.append(factura)\n",
        "\n",
        "    def __str__(self):\n",
        "        return f\"Cliente: {self.nombre} | Cédula: {self.cedula} | Facturas: {len(self.facturas)}\"\n",
        "\n",
        "# Clase Factura\n",
        "class Factura:\n",
        "    contador_id = 1  # Para generar un ID único a cada factura\n",
        "\n",
        "    def __init__(self, cliente):\n",
        "        self.id_factura = Factura.contador_id\n",
        "        Factura.contador_id += 1\n",
        "        self.cliente = cliente\n",
        "        self.productos = []\n",
        "        self.total = 0\n",
        "\n",
        "    def agregar_producto(self, producto, cantidad=1):\n",
        "        self.productos.append((producto, cantidad))\n",
        "        self.total += producto.precio * cantidad\n",
        "\n",
        "    def __str__(self):\n",
        "        productos_str = \"\\n\".join([f\"{p[0]} x {p[1]}\" for p in self.productos])\n",
        "        return f\"Factura #{self.id_factura} | Cliente: {self.cliente.nombre} \\nProductos:\\n{productos_str}\\nTotal: ${self.total}\"\n"
      ],
      "metadata": {
        "id": "xFabC1mGQV7t"
      },
      "execution_count": null,
      "outputs": []
    },
    {
      "cell_type": "code",
      "source": [
        "clientes = {} # Diccionario para almacenar clientes por cédula\n",
        "facturas = []  # Lista para almacenar facturas\n",
        "\n",
        "# Crear clientes\n",
        "cliente1 = Cliente(\"Juan Pérez\", 123456789)\n",
        "cliente2 = Cliente(\"María López\", 987654321)\n",
        "\n",
        "clientes[cliente1.cedula] = cliente1\n",
        "clientes[cliente2.cedula] = cliente2\n",
        "# Crear productos\n",
        "fertilizante = ControlDeFertilizantes(\"Fertilizante X\", 50000, \"ICA123\", 30, \"2025-06-15\")\n",
        "plaga_control = ControlDePlagas(\"Insecticida Y\", 60000, \"ICA456\", 20, 15)\n",
        "medicamento = Medicamento(\"Antibiótico Z\", 75000, 500, \"Bovinos\")\n",
        "\n",
        "# Crear facturas y agregar productos\n",
        "factura1 = Factura(cliente1)\n",
        "factura1.agregar_producto(fertilizante, 2)\n",
        "factura1.agregar_producto(medicamento, 1)\n",
        "cliente1.agregar_factura(factura1)\n",
        "\n",
        "factura2 = Factura(cliente2)\n",
        "factura2.agregar_producto(plaga_control, 3)\n",
        "cliente2.agregar_factura(factura2)\n",
        "\n",
        "# Mostrar facturas generadas\n",
        "print(factura1)\n",
        "print(\"\\n\" + \"-\"*30 + \"\\n\")\n",
        "print(factura2)\n",
        "\n",
        "\n"
      ],
      "metadata": {
        "colab": {
          "base_uri": "https://localhost:8080/"
        },
        "id": "-bSH3Br7QYhj",
        "outputId": "b175fe64-433a-499a-f53c-0ce52bb8abc4"
      },
      "execution_count": null,
      "outputs": [
        {
          "output_type": "stream",
          "name": "stdout",
          "text": [
            "Factura #1 | Cliente: Juan Pérez \n",
            "Productos:\n",
            "Fertilizante X - $50000 x 2\n",
            "Antibiótico Z - $75000 x 1\n",
            "Total: $175000\n",
            "\n",
            "------------------------------\n",
            "\n",
            "Factura #2 | Cliente: María López \n",
            "Productos:\n",
            "Insecticida Y - $60000 x 3\n",
            "Total: $180000\n"
          ]
        }
      ]
    },
    {
      "cell_type": "code",
      "source": [
        "import unittest\n",
        "\n",
        "class TestFacturacion(unittest.TestCase):\n",
        "    def test_creacion_cliente(self):\n",
        "        cliente = Cliente(\"Pedro Gómez\", 111222333)\n",
        "        self.assertEqual(cliente.nombre, \"Pedro Gómez\")\n",
        "        self.assertEqual(cliente.cedula, 111222333)\n",
        "        self.assertEqual(len(cliente.facturas), 0)\n",
        "\n",
        "    def test_creacion_factura(self):\n",
        "        cliente = Cliente(\"Pedro Gómez\", 111222333)\n",
        "        factura = Factura(cliente)\n",
        "        self.assertEqual(factura.cliente, cliente)\n",
        "        self.assertEqual(len(factura.productos), 0)\n",
        "\n",
        "    def test_agregar_producto_a_factura(self):\n",
        "        cliente = Cliente(\"Pedro Gómez\", 111222333)\n",
        "        factura = Factura(cliente)\n",
        "        medicamento = Medicamento(\"Antibiótico A\", 75000, 500, \"Bovinos\")\n",
        "        factura.agregar_producto(medicamento, 2)\n",
        "\n",
        "        self.assertEqual(len(factura.productos), 1)\n",
        "        self.assertEqual(factura.total, 150000)  # 75000 * 2\n",
        "\n",
        "    def test_agregar_factura_a_cliente(self):\n",
        "        cliente = Cliente(\"Pedro Gómez\", 111222333)\n",
        "        factura = Factura(cliente)\n",
        "        cliente.agregar_factura(factura)\n",
        "        self.assertEqual(len(cliente.facturas), 1)\n",
        "        self.assertEqual(cliente.facturas[0], factura)\n",
        "\n",
        "    def test_creacion_producto(self):\n",
        "      fertilizante = ControlDeFertilizantes(\"Fertilizante X\", 50000, \"ICA123\", 30, \"2025-06-15\")\n",
        "      self.assertEqual(fertilizante.nombre, \"Fertilizante X\")\n",
        "      self.assertEqual(fertilizante.precio, 50000)\n",
        "      self.assertEqual(fertilizante.registro_ica, \"ICA123\")\n",
        "      self.assertEqual(fertilizante.frecuencia_aplicacion, 30)\n",
        "      self.assertEqual(fertilizante.fecha_ultima_aplicacion, \"2025-06-15\")\n",
        "\n",
        "    def test_factura_varios_productos(self):\n",
        "        cliente = Cliente(\"Pedro Gómez\", \"111222333\")\n",
        "        factura = Factura(cliente)\n",
        "        fertilizante = ControlDeFertilizantes(\"Fertilizante X\", 50000, \"ICA123\", 30, \"2025-06-15\")\n",
        "        medicamento = Medicamento(\"Antibiótico A\", 75000, 500, \"Bovinos\")\n",
        "        factura.agregar_producto(fertilizante, 2)\n",
        "        factura.agregar_producto(medicamento, 1)\n",
        "        self.assertEqual(len(factura.productos), 2)\n",
        "        self.assertEqual(factura.total, 175000)\n",
        "\n",
        "# Ejecutar las pruebas\n",
        "unittest.main(argv=[''], exit=False)\n"
      ],
      "metadata": {
        "colab": {
          "base_uri": "https://localhost:8080/"
        },
        "id": "1k2cgxn0QbKM",
        "outputId": "1d3719e4-3eb5-4851-dd2f-09c94b91a015"
      },
      "execution_count": null,
      "outputs": [
        {
          "output_type": "stream",
          "name": "stderr",
          "text": [
            "......\n",
            "----------------------------------------------------------------------\n",
            "Ran 6 tests in 0.007s\n",
            "\n",
            "OK\n"
          ]
        },
        {
          "output_type": "execute_result",
          "data": {
            "text/plain": [
              "<unittest.main.TestProgram at 0x796a05e53550>"
            ]
          },
          "metadata": {},
          "execution_count": 31
        }
      ]
    },
    {
      "cell_type": "code",
      "source": [
        "def menu():\n",
        "    global clientes, facturas\n",
        "\n",
        "    while True:\n",
        "        print(\"\\n MENÚ PRINCIPAL:\")\n",
        "        print(\"1. Crear Cliente\")\n",
        "        print(\"2. Crear Factura\")\n",
        "        print(\"3. Agregar Producto a Factura\")\n",
        "        print(\"4. Ver Facturas\")\n",
        "        print(\"5. Salir\")\n",
        "\n",
        "        opcion = input(\" Elige una opción: \")\n",
        "\n",
        "        if opcion == \"1\":\n",
        "            nombre = input(\"Nombre del cliente: \")\n",
        "            cedula = input(\"Cédula: \")\n",
        "            if cedula in clientes:\n",
        "                print(\" Cliente ya existe.\")\n",
        "            else:\n",
        "                clientes[cedula] = Cliente(nombre, cedula)\n",
        "                print(f\" Cliente '{nombre}' creado con éxito. (cedula: {cedula})\") #Debugging\n",
        "                print(\"Clientes actuales: \", clientes) #Debugging\n",
        "\n",
        "        elif opcion == \"2\":\n",
        "            cedula = input(\"Cédula del cliente: \")\n",
        "            if cedula in clientes:\n",
        "                factura = Factura(clientes[cedula])\n",
        "                facturas.append(factura)\n",
        "                print(f\" Factura #{factura.id_factura} creada para {clientes[cedula].nombre}.\")\n",
        "                print(\"Facturas actuales: \", facturas) #Debugging\n",
        "            else:\n",
        "                print(\" Cliente no encontrado.\")\n",
        "\n",
        "        elif opcion == \"3\":\n",
        "            if not facturas:\n",
        "                print(\" No hay facturas creadas.\")\n",
        "                continue\n",
        "\n",
        "            id_factura = int(input(\"ID de la Factura: \"))\n",
        "            factura = next((f for f in facturas if f.id_factura == id_factura), None)\n",
        "            if factura:\n",
        "                print(\" Elige un producto:\")\n",
        "                print(\"1. Fertilizante X ($50000)\")\n",
        "                print(\"2. Insecticida Y ($60000)\")\n",
        "                print(\"3. Antibiótico A ($75000)\")\n",
        "\n",
        "                producto_opcion = input(\" Selecciona un número: \")\n",
        "                cantidad = int(input(\"Cantidad: \"))\n",
        "\n",
        "                if producto_opcion == \"1\":\n",
        "                    producto = ControlDeFertilizantes(\"Fertilizante X\", 50000, \"ICA123\", 30, \"2025-06-15\")\n",
        "                elif producto_opcion == \"2\":\n",
        "                    producto = ControlDePlagas(\"Insecticida Y\", 60000, \"ICA456\", 20, 15)\n",
        "                elif producto_opcion == \"3\":\n",
        "                    producto = Medicamento(\"Antibiótico A\", 75000, 500, \"Bovinos\")\n",
        "                else:\n",
        "                    print(\" Opción inválida.\")\n",
        "                    continue\n",
        "\n",
        "                factura.agregar_producto(producto, cantidad)\n",
        "                print(f\" {cantidad}x {producto.nombre} agregado a la factura #{factura.id_factura}.\")\n",
        "                print(\"Facturas actuales: \", facturas) #Debugging\n",
        "            else:\n",
        "                print(\" Factura no encontrada.\")\n",
        "\n",
        "        elif opcion == \"4\":\n",
        "            if not facturas:\n",
        "                print(\" No hay facturas creadas.\")\n",
        "            else:\n",
        "                for factura in facturas:\n",
        "                    print(\"\\n\" + str(factura))\n",
        "                    print(\"Facturas actuales: \", facturas) #Debugging\n",
        "\n",
        "        elif opcion == \"5\":\n",
        "            print(\" Saliendo del sistema...\")\n",
        "            break\n",
        "\n",
        "        else:\n",
        "            print(\" Opción inválida. Intenta de nuevo.\")\n"
      ],
      "metadata": {
        "id": "aMHUtT_iVXVz"
      },
      "execution_count": null,
      "outputs": []
    },
    {
      "cell_type": "code",
      "source": [
        "menu()"
      ],
      "metadata": {
        "id": "DfBru9fOX2uz",
        "outputId": "aa819ef8-8829-4e52-f1d8-f168bab9258b",
        "colab": {
          "base_uri": "https://localhost:8080/"
        }
      },
      "execution_count": null,
      "outputs": [
        {
          "output_type": "stream",
          "name": "stdout",
          "text": [
            "\n",
            " MENÚ PRINCIPAL:\n",
            "1. Crear Cliente\n",
            "2. Crear Factura\n",
            "3. Agregar Producto a Factura\n",
            "4. Ver Facturas\n",
            "5. Salir\n",
            " Elige una opción: 123456789\n",
            " Opción inválida. Intenta de nuevo.\n",
            "\n",
            " MENÚ PRINCIPAL:\n",
            "1. Crear Cliente\n",
            "2. Crear Factura\n",
            "3. Agregar Producto a Factura\n",
            "4. Ver Facturas\n",
            "5. Salir\n",
            " Elige una opción: 2\n",
            "Cédula del cliente: 123456789\n",
            " Cliente no encontrado.\n",
            "\n",
            " MENÚ PRINCIPAL:\n",
            "1. Crear Cliente\n",
            "2. Crear Factura\n",
            "3. Agregar Producto a Factura\n",
            "4. Ver Facturas\n",
            "5. Salir\n",
            " Elige una opción: 1\n",
            "Nombre del cliente: nicolas\n",
            "Cédula: 1088238419\n",
            " Cliente 'nicolas' creado con éxito. (cedula: 1088238419)\n",
            "Clientes actuales:  {123456789: <__main__.Cliente object at 0x796a05e05990>, 987654321: <__main__.Cliente object at 0x796a05fdf090>, '1088238419': <__main__.Cliente object at 0x796a1f673cd0>}\n",
            "\n",
            " MENÚ PRINCIPAL:\n",
            "1. Crear Cliente\n",
            "2. Crear Factura\n",
            "3. Agregar Producto a Factura\n",
            "4. Ver Facturas\n",
            "5. Salir\n",
            " Elige una opción: 5\n",
            " Saliendo del sistema...\n"
          ]
        }
      ]
    }
  ]
}